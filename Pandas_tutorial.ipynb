{
 "cells": [
  {
   "cell_type": "code",
   "execution_count": null,
   "id": "39ef14d6-fdbb-44be-bc6c-8f9f135ba453",
   "metadata": {},
   "outputs": [],
   "source": [
    "!pip install pandas"
   ]
  },
  {
   "cell_type": "code",
   "execution_count": 1,
   "id": "b79175f5-0c72-4e94-bc35-0a9ffd1c0e09",
   "metadata": {},
   "outputs": [],
   "source": [
    "import pandas as pd "
   ]
  },
  {
   "cell_type": "code",
   "execution_count": 2,
   "id": "148b8fea-4802-49aa-a0c7-90a69356f163",
   "metadata": {},
   "outputs": [],
   "source": [
    "import numpy as np"
   ]
  },
  {
   "cell_type": "code",
   "execution_count": 72,
   "id": "5873a5ef-cb46-492b-a09e-d74f56e9ca54",
   "metadata": {},
   "outputs": [
    {
     "name": "stdout",
     "output_type": "stream",
     "text": [
      "[1 2 3 4]\n"
     ]
    }
   ],
   "source": [
    "arr = np.array([1,2,3,4])\n",
    "print(arr)"
   ]
  },
  {
   "cell_type": "code",
   "execution_count": 6,
   "id": "346efc14-6108-4e6c-bbaa-c1ecb88fb676",
   "metadata": {},
   "outputs": [
    {
     "name": "stdout",
     "output_type": "stream",
     "text": [
      "Series:\n",
      " 0    10\n",
      "1    20\n",
      "2    30\n",
      "3    40\n",
      "dtype: int64\n"
     ]
    }
   ],
   "source": [
    "s = pd.Series([10,20,30,40])\n",
    "print(\"Series:\\n\",s)"
   ]
  },
  {
   "cell_type": "code",
   "execution_count": 9,
   "id": "e841b733-a695-4579-9515-8e4b37612492",
   "metadata": {},
   "outputs": [
    {
     "name": "stdout",
     "output_type": "stream",
     "text": [
      "\n",
      "DataFrame\n",
      "   Name  Age\n",
      "0    A   25\n",
      "1    B   30\n",
      "2    C   40\n"
     ]
    }
   ],
   "source": [
    "df = pd.DataFrame({\"Name\": [\"A\",\"B\",\"C\"],\"Age\": [25,30,40]})\n",
    "print(\"\\nDataFrame\\n\", df)"
   ]
  },
  {
   "cell_type": "code",
   "execution_count": 10,
   "id": "a2c3cf4d-f613-4a1d-973b-b85925766f58",
   "metadata": {},
   "outputs": [],
   "source": [
    "s1 = pd.Series([1,2,3,4],\n",
    "index=[\"A\",\"B\",\"C\",\"D\"])"
   ]
  },
  {
   "cell_type": "code",
   "execution_count": 11,
   "id": "9feab1ee-f8bf-48e9-a38c-22e279e56282",
   "metadata": {},
   "outputs": [
    {
     "name": "stdout",
     "output_type": "stream",
     "text": [
      "A    1\n",
      "B    2\n",
      "C    3\n",
      "D    4\n",
      "dtype: int64\n"
     ]
    }
   ],
   "source": [
    "print(s1)"
   ]
  },
  {
   "cell_type": "code",
   "execution_count": 12,
   "id": "dd816336-b2d6-45a8-a6f0-53fa1c0b94c8",
   "metadata": {},
   "outputs": [],
   "source": [
    "s2 = pd.Series({\"A\":1,\"B\":2,\"C\":3,\"D\":4})"
   ]
  },
  {
   "cell_type": "code",
   "execution_count": 13,
   "id": "514b2870-e822-495f-9140-2d330385e0bf",
   "metadata": {},
   "outputs": [],
   "source": [
    "s3 = pd.Series(np.array([10,20,30,40]))"
   ]
  },
  {
   "cell_type": "code",
   "execution_count": 14,
   "id": "959383ad-ff60-4be1-a63f-664cbceaba69",
   "metadata": {},
   "outputs": [
    {
     "name": "stdout",
     "output_type": "stream",
     "text": [
      "0    10\n",
      "1    20\n",
      "2    30\n",
      "3    40\n",
      "dtype: int32\n"
     ]
    }
   ],
   "source": [
    "print(s3)"
   ]
  },
  {
   "cell_type": "code",
   "execution_count": 15,
   "id": "1ffa97e3-d448-4584-99b3-6d9199445641",
   "metadata": {},
   "outputs": [
    {
     "name": "stdout",
     "output_type": "stream",
     "text": [
      "2\n"
     ]
    }
   ],
   "source": [
    "print(s1[\"B\"])"
   ]
  },
  {
   "cell_type": "code",
   "execution_count": 16,
   "id": "97110f36-84d4-48ab-8268-741153cf63ac",
   "metadata": {},
   "outputs": [
    {
     "name": "stdout",
     "output_type": "stream",
     "text": [
      "B    2\n",
      "C    3\n",
      "dtype: int64\n"
     ]
    }
   ],
   "source": [
    "print(s1[1:3])"
   ]
  },
  {
   "cell_type": "code",
   "execution_count": 6,
   "id": "6331cc81-8d72-4aed-990b-5a52d96f1ed3",
   "metadata": {},
   "outputs": [
    {
     "data": {
      "text/html": [
       "<div>\n",
       "<style scoped>\n",
       "    .dataframe tbody tr th:only-of-type {\n",
       "        vertical-align: middle;\n",
       "    }\n",
       "\n",
       "    .dataframe tbody tr th {\n",
       "        vertical-align: top;\n",
       "    }\n",
       "\n",
       "    .dataframe thead th {\n",
       "        text-align: right;\n",
       "    }\n",
       "</style>\n",
       "<table border=\"1\" class=\"dataframe\">\n",
       "  <thead>\n",
       "    <tr style=\"text-align: right;\">\n",
       "      <th></th>\n",
       "      <th>name</th>\n",
       "      <th>age</th>\n",
       "      <th>city</th>\n",
       "    </tr>\n",
       "  </thead>\n",
       "  <tbody>\n",
       "    <tr>\n",
       "      <th>0</th>\n",
       "      <td>Mugees</td>\n",
       "      <td>25</td>\n",
       "      <td>Banglore</td>\n",
       "    </tr>\n",
       "    <tr>\n",
       "      <th>1</th>\n",
       "      <td>Nayan</td>\n",
       "      <td>24</td>\n",
       "      <td>Bhopal</td>\n",
       "    </tr>\n",
       "    <tr>\n",
       "      <th>2</th>\n",
       "      <td>Pratik</td>\n",
       "      <td>26</td>\n",
       "      <td>Indore</td>\n",
       "    </tr>\n",
       "    <tr>\n",
       "      <th>3</th>\n",
       "      <td>Riya</td>\n",
       "      <td>20</td>\n",
       "      <td>Chennai</td>\n",
       "    </tr>\n",
       "    <tr>\n",
       "      <th>4</th>\n",
       "      <td>Mudit</td>\n",
       "      <td>22</td>\n",
       "      <td>Pune</td>\n",
       "    </tr>\n",
       "  </tbody>\n",
       "</table>\n",
       "</div>"
      ],
      "text/plain": [
       "     name  age      city\n",
       "0  Mugees   25  Banglore\n",
       "1   Nayan   24    Bhopal\n",
       "2  Pratik   26    Indore\n",
       "3    Riya   20   Chennai\n",
       "4   Mudit   22      Pune"
      ]
     },
     "execution_count": 6,
     "metadata": {},
     "output_type": "execute_result"
    }
   ],
   "source": [
    "df = pd.DataFrame({\"name\":[\"Mugees\",\"Nayan\",\"Pratik\",\"Riya\",\"Mudit\"],\"age\":[25,24,26,20,22],\"city\":[\"Banglore\",\"Bhopal\",\"Indore\",\"Chennai\",\"Pune\"]})\n",
    "df"
   ]
  },
  {
   "cell_type": "code",
   "execution_count": 63,
   "id": "6cf33b7b-2f4a-49a3-9f5b-51c531693be0",
   "metadata": {},
   "outputs": [
    {
     "name": "stdout",
     "output_type": "stream",
     "text": [
      "     name  age      city  salary\n",
      "0  Mugees   25  Banglore   50000\n",
      "1   Nayan   24    Bhopal   60000\n",
      "2  Pratik   26    Indore   70000\n",
      "3    Riya   20   Chennai    8000\n",
      "4   Mudit   22      Pune    9000\n"
     ]
    }
   ],
   "source": [
    "df[\"salary\"] = [50000,60000,70000,8000,9000]\n",
    "print(df)"
   ]
  },
  {
   "cell_type": "code",
   "execution_count": 58,
   "id": "62083892-d906-43dc-9f11-5f10757c43ad",
   "metadata": {},
   "outputs": [
    {
     "name": "stdout",
     "output_type": "stream",
     "text": [
      "{'name': ['Mugees', 'Nayan', 'Pratik', 'Riya', 'Mudit'], 'age': [25, 24, 26, 20, 22], 'city': ['Banglore', 'Bhopal', 'Indore', 'Chennai', 'Pune']}\n"
     ]
    }
   ],
   "source": [
    "data = ({\"name\":[\"Mugees\",\"Nayan\",\"Pratik\",\"Riya\",\"Mudit\"],\"age\":[25,24,26,20,22],\"city\":[\"Banglore\",\"Bhopal\",\"Indore\",\"Chennai\",\"Pune\"]})\n",
    "df = pd.DataFrame(data)\n",
    "print(data)"
   ]
  },
  {
   "cell_type": "code",
   "execution_count": 59,
   "id": "d02d4a24-f9ba-4fbe-9735-3853df30fa06",
   "metadata": {},
   "outputs": [
    {
     "name": "stdout",
     "output_type": "stream",
     "text": [
      "     name  age      city\n",
      "0  Mugees   25  Banglore\n",
      "1   Nayan   24    Bhopal\n",
      "2  Pratik   26    Indore\n",
      "3    Riya   20   Chennai\n",
      "4   Mudit   22      Pune\n"
     ]
    }
   ],
   "source": [
    "print(df.head())"
   ]
  },
  {
   "cell_type": "code",
   "execution_count": 49,
   "id": "a388729a-a531-4a74-b567-e14aeea81ef9",
   "metadata": {},
   "outputs": [
    {
     "name": "stdout",
     "output_type": "stream",
     "text": [
      "    name  age     city\n",
      "3   Riya   20  Chennai\n",
      "4  Mudit   22     Pune\n"
     ]
    }
   ],
   "source": [
    "print(df.tail(2))"
   ]
  },
  {
   "cell_type": "code",
   "execution_count": 50,
   "id": "8d620b58-db55-402b-8d33-49e667d2de68",
   "metadata": {},
   "outputs": [
    {
     "name": "stdout",
     "output_type": "stream",
     "text": [
      "<class 'pandas.core.frame.DataFrame'>\n",
      "RangeIndex: 5 entries, 0 to 4\n",
      "Data columns (total 3 columns):\n",
      " #   Column  Non-Null Count  Dtype \n",
      "---  ------  --------------  ----- \n",
      " 0   name    5 non-null      object\n",
      " 1   age     5 non-null      int64 \n",
      " 2   city    5 non-null      object\n",
      "dtypes: int64(1), object(2)\n",
      "memory usage: 252.0+ bytes\n",
      "None\n"
     ]
    }
   ],
   "source": [
    "print(df.info())"
   ]
  },
  {
   "cell_type": "code",
   "execution_count": 51,
   "id": "c99f4af4-4658-46e3-afda-247ee88e15a8",
   "metadata": {},
   "outputs": [
    {
     "name": "stdout",
     "output_type": "stream",
     "text": [
      "             age\n",
      "count   5.000000\n",
      "mean   23.400000\n",
      "std     2.408319\n",
      "min    20.000000\n",
      "25%    22.000000\n",
      "50%    24.000000\n",
      "75%    25.000000\n",
      "max    26.000000\n"
     ]
    }
   ],
   "source": [
    "print(df.describe())"
   ]
  },
  {
   "cell_type": "code",
   "execution_count": 52,
   "id": "1edb84cc-4081-4e12-b44d-18153fbccb6a",
   "metadata": {},
   "outputs": [
    {
     "name": "stdout",
     "output_type": "stream",
     "text": [
      "0    Mugees\n",
      "1     Nayan\n",
      "2    Pratik\n",
      "3      Riya\n",
      "4     Mudit\n",
      "Name: name, dtype: object\n"
     ]
    }
   ],
   "source": [
    "print(df[\"name\"]) # select single column"
   ]
  },
  {
   "cell_type": "code",
   "execution_count": 53,
   "id": "bba23db2-452f-4b64-a423-6521cf78d81f",
   "metadata": {},
   "outputs": [
    {
     "name": "stdout",
     "output_type": "stream",
     "text": [
      "     name      city\n",
      "0  Mugees  Banglore\n",
      "1   Nayan    Bhopal\n",
      "2  Pratik    Indore\n",
      "3    Riya   Chennai\n",
      "4   Mudit      Pune\n"
     ]
    }
   ],
   "source": [
    "print(df[[\"name\",\"city\"]]) # select multiple column"
   ]
  },
  {
   "cell_type": "code",
   "execution_count": 54,
   "id": "f7ec19a1-3f0e-4786-ad5f-a21a69747e36",
   "metadata": {},
   "outputs": [
    {
     "name": "stdout",
     "output_type": "stream",
     "text": [
      "name      Mugees\n",
      "age           25\n",
      "city    Banglore\n",
      "Name: 0, dtype: object\n"
     ]
    }
   ],
   "source": [
    "print(df.loc[0]) # select row by label"
   ]
  },
  {
   "cell_type": "code",
   "execution_count": 55,
   "id": "591aa5ba-7b73-4324-b43f-d9c21eba2d6c",
   "metadata": {},
   "outputs": [
    {
     "name": "stdout",
     "output_type": "stream",
     "text": [
      "name     Nayan\n",
      "age         24\n",
      "city    Bhopal\n",
      "Name: 1, dtype: object\n"
     ]
    }
   ],
   "source": [
    "print(df.iloc[1]) # select row by position"
   ]
  },
  {
   "cell_type": "code",
   "execution_count": 7,
   "id": "0bbf8e94-190f-4fcd-a786-f8d0092b82ba",
   "metadata": {},
   "outputs": [
    {
     "name": "stdout",
     "output_type": "stream",
     "text": [
      "     name  age\n",
      "0  Mugees   25\n",
      "1   Nayan   24\n",
      "2  Pratik   26\n",
      "3    Riya   20\n",
      "4   Mudit   22\n"
     ]
    }
   ],
   "source": [
    "df = df.drop(\"city\",axis=1) # drop column (axis = 1, for columns)\n",
    "print(df) "
   ]
  },
  {
   "cell_type": "code",
   "execution_count": 8,
   "id": "81606b5b-b0ed-4436-b11d-0bca773740a7",
   "metadata": {},
   "outputs": [],
   "source": [
    "df = df.drop(0,axis=0) # drop row (axis = 0, for rows)"
   ]
  },
  {
   "cell_type": "code",
   "execution_count": 71,
   "id": "e3a030fa-1d85-4e04-b035-6d56c1345821",
   "metadata": {},
   "outputs": [
    {
     "name": "stdout",
     "output_type": "stream",
     "text": [
      "     name  age     city\n",
      "1   Nayan   24   Bhopal\n",
      "2  Pratik   26   Indore\n",
      "3    Riya   20  Chennai\n",
      "4   Mudit   22     Pune\n"
     ]
    }
   ],
   "source": [
    "print(df)"
   ]
  },
  {
   "cell_type": "markdown",
   "id": "16b22fb7-b60d-4855-94a5-ffc45da48eb1",
   "metadata": {},
   "source": [
    "# 6. Handling Missing Values"
   ]
  },
  {
   "cell_type": "code",
   "execution_count": 74,
   "id": "8904c83d-f8c2-4a10-9730-f0ff91211333",
   "metadata": {},
   "outputs": [],
   "source": [
    "df = pd.DataFrame({\"A\":[1,2,None],\"B\":[4,None,6]})"
   ]
  },
  {
   "cell_type": "code",
   "execution_count": 77,
   "id": "ba60ec44-d04b-4fe4-9e1f-69f553c15530",
   "metadata": {},
   "outputs": [
    {
     "name": "stdout",
     "output_type": "stream",
     "text": [
      "       A      B\n",
      "0  False  False\n",
      "1  False   True\n",
      "2   True  False\n"
     ]
    }
   ],
   "source": [
    "print(df.isnull()) # check missing values"
   ]
  },
  {
   "cell_type": "code",
   "execution_count": 78,
   "id": "2a7320a7-84a1-432a-a238-670c77f0c676",
   "metadata": {},
   "outputs": [
    {
     "name": "stdout",
     "output_type": "stream",
     "text": [
      "       A      B\n",
      "0   True   True\n",
      "1   True  False\n",
      "2  False   True\n"
     ]
    }
   ],
   "source": [
    "print(df.notnull()) # check non-missing values"
   ]
  },
  {
   "cell_type": "code",
   "execution_count": 9,
   "id": "8274f4e9-fe91-4abc-85c6-ab3ad0ead2b8",
   "metadata": {},
   "outputs": [],
   "source": [
    "df = df.fillna(0) # fill with zero"
   ]
  },
  {
   "cell_type": "code",
   "execution_count": 10,
   "id": "61077ad9-bcf2-4b9e-863b-048f7a955c0a",
   "metadata": {},
   "outputs": [
    {
     "name": "stdout",
     "output_type": "stream",
     "text": [
      "     name  age\n",
      "1   Nayan   24\n",
      "2  Pratik   26\n",
      "3    Riya   20\n",
      "4   Mudit   22\n"
     ]
    }
   ],
   "source": [
    "df = df.dropna() # drop rows with missing\n",
    "print(df)"
   ]
  },
  {
   "cell_type": "code",
   "execution_count": 11,
   "id": "acd1ca83-dacd-49da-8985-4fe7bbac031a",
   "metadata": {},
   "outputs": [
    {
     "name": "stdout",
     "output_type": "stream",
     "text": [
      "name    object\n",
      "age      int64\n",
      "dtype: object\n"
     ]
    }
   ],
   "source": [
    "print(df.dtypes)"
   ]
  },
  {
   "cell_type": "markdown",
   "id": "92d49bfd-ae67-4bfe-bb0e-80145055c17b",
   "metadata": {},
   "source": [
    "# Basic Operations"
   ]
  },
  {
   "cell_type": "markdown",
   "id": "0b5979dc-29a0-4c00-ae4d-6ae2f96b295f",
   "metadata": {},
   "source": [
    "Arithmetic operation\n",
    "Apply Functions "
   ]
  },
  {
   "cell_type": "code",
   "execution_count": 13,
   "id": "4797a236-59f5-404e-b0b4-9a97519b6f93",
   "metadata": {},
   "outputs": [],
   "source": [
    "df = pd.DataFrame({\"A\":[1,2,3],\"B\":[4,5,6]})"
   ]
  },
  {
   "cell_type": "code",
   "execution_count": 16,
   "id": "2d7ecfc3-45e9-45eb-b004-781f47471c19",
   "metadata": {},
   "outputs": [
    {
     "name": "stdout",
     "output_type": "stream",
     "text": [
      "0    5\n",
      "1    7\n",
      "2    9\n",
      "dtype: int64\n"
     ]
    }
   ],
   "source": [
    "print(df[\"A\"] + df[\"B\"]) # Add columns"
   ]
  },
  {
   "cell_type": "code",
   "execution_count": 18,
   "id": "860d59e5-b4cc-4daa-9428-9e0cac775806",
   "metadata": {},
   "outputs": [
    {
     "name": "stdout",
     "output_type": "stream",
     "text": [
      "2.0\n"
     ]
    }
   ],
   "source": [
    "print(df[\"A\"].mean()) # Mean"
   ]
  },
  {
   "cell_type": "code",
   "execution_count": 19,
   "id": "03b34888-e21b-4831-b6e3-5abe4df5319b",
   "metadata": {},
   "outputs": [
    {
     "name": "stdout",
     "output_type": "stream",
     "text": [
      "   A   B\n",
      "0  2   8\n",
      "1  4  10\n",
      "2  6  12\n"
     ]
    }
   ],
   "source": [
    "print(df.apply(lambda x: x*2)) # Apply function"
   ]
  },
  {
   "cell_type": "markdown",
   "id": "5f56ce87-c4f6-4a27-aacc-01249020a074",
   "metadata": {},
   "source": [
    "# Sorting Data"
   ]
  },
  {
   "cell_type": "markdown",
   "id": "cf1072ad-8335-43d1-8b9b-ac4f4a901953",
   "metadata": {},
   "source": [
    ".sort_values(), .sort_insex()"
   ]
  },
  {
   "cell_type": "code",
   "execution_count": 21,
   "id": "70494ea3-21f3-4d24-a4ac-30d35b6365ca",
   "metadata": {},
   "outputs": [],
   "source": [
    "df = pd.DataFrame({\"M\":[3,5,1,7,0]})"
   ]
  },
  {
   "cell_type": "code",
   "execution_count": 34,
   "id": "16c3cf71-c27c-4f18-93c8-dc5bac148f5d",
   "metadata": {},
   "outputs": [
    {
     "name": "stdout",
     "output_type": "stream",
     "text": [
      "   M\n",
      "4  0\n",
      "2  1\n",
      "0  3\n",
      "1  5\n",
      "3  7\n"
     ]
    }
   ],
   "source": [
    "print(df.sort_values(\"M\")) # for ascending order"
   ]
  },
  {
   "cell_type": "code",
   "execution_count": 33,
   "id": "bbb13d2e-b468-4b1b-b9ff-b500817c7dbc",
   "metadata": {},
   "outputs": [
    {
     "name": "stdout",
     "output_type": "stream",
     "text": [
      "   M\n",
      "3  7\n",
      "1  5\n",
      "0  3\n",
      "2  1\n",
      "4  0\n"
     ]
    }
   ],
   "source": [
    "print(df.sort_values(\"M\",ascending=False)) # for descending order "
   ]
  },
  {
   "cell_type": "code",
   "execution_count": 32,
   "id": "c131e329-87ff-4029-b36c-293a332c0d8b",
   "metadata": {},
   "outputs": [
    {
     "name": "stdout",
     "output_type": "stream",
     "text": [
      "   M\n",
      "0  3\n",
      "1  5\n",
      "2  1\n",
      "3  7\n",
      "4  0\n"
     ]
    }
   ],
   "source": [
    "print(df.sort_index()) # for index sorting"
   ]
  },
  {
   "cell_type": "markdown",
   "id": "88732de0-d906-442b-8f12-adf795a84daf",
   "metadata": {},
   "source": [
    "#  Filter Data"
   ]
  },
  {
   "cell_type": "code",
   "execution_count": 35,
   "id": "107b8638-c3e0-4c2f-97ff-0f2db1bb9b58",
   "metadata": {},
   "outputs": [],
   "source": [
    "df = pd.DataFrame({\"M\":[3,5,1,7,0]})"
   ]
  },
  {
   "cell_type": "code",
   "execution_count": 36,
   "id": "f895c2ca-5586-418a-a5a7-e382abedc0f6",
   "metadata": {},
   "outputs": [
    {
     "name": "stdout",
     "output_type": "stream",
     "text": [
      "   M\n",
      "0  3\n",
      "1  5\n",
      "3  7\n"
     ]
    }
   ],
   "source": [
    "print(df[df[\"M\"]>1])"
   ]
  },
  {
   "cell_type": "code",
   "execution_count": 37,
   "id": "da435bf4-550d-4517-996a-2354e3af6e22",
   "metadata": {},
   "outputs": [
    {
     "data": {
      "text/html": [
       "<div>\n",
       "<style scoped>\n",
       "    .dataframe tbody tr th:only-of-type {\n",
       "        vertical-align: middle;\n",
       "    }\n",
       "\n",
       "    .dataframe tbody tr th {\n",
       "        vertical-align: top;\n",
       "    }\n",
       "\n",
       "    .dataframe thead th {\n",
       "        text-align: right;\n",
       "    }\n",
       "</style>\n",
       "<table border=\"1\" class=\"dataframe\">\n",
       "  <thead>\n",
       "    <tr style=\"text-align: right;\">\n",
       "      <th></th>\n",
       "      <th>name</th>\n",
       "      <th>age</th>\n",
       "      <th>city</th>\n",
       "    </tr>\n",
       "  </thead>\n",
       "  <tbody>\n",
       "    <tr>\n",
       "      <th>0</th>\n",
       "      <td>Mugees</td>\n",
       "      <td>25</td>\n",
       "      <td>Banglore</td>\n",
       "    </tr>\n",
       "    <tr>\n",
       "      <th>1</th>\n",
       "      <td>Nayan</td>\n",
       "      <td>24</td>\n",
       "      <td>Bhopal</td>\n",
       "    </tr>\n",
       "    <tr>\n",
       "      <th>2</th>\n",
       "      <td>Pratik</td>\n",
       "      <td>26</td>\n",
       "      <td>Indore</td>\n",
       "    </tr>\n",
       "    <tr>\n",
       "      <th>3</th>\n",
       "      <td>Riya</td>\n",
       "      <td>20</td>\n",
       "      <td>Chennai</td>\n",
       "    </tr>\n",
       "    <tr>\n",
       "      <th>4</th>\n",
       "      <td>Mudit</td>\n",
       "      <td>22</td>\n",
       "      <td>Pune</td>\n",
       "    </tr>\n",
       "  </tbody>\n",
       "</table>\n",
       "</div>"
      ],
      "text/plain": [
       "     name  age      city\n",
       "0  Mugees   25  Banglore\n",
       "1   Nayan   24    Bhopal\n",
       "2  Pratik   26    Indore\n",
       "3    Riya   20   Chennai\n",
       "4   Mudit   22      Pune"
      ]
     },
     "execution_count": 37,
     "metadata": {},
     "output_type": "execute_result"
    }
   ],
   "source": [
    "df = pd.DataFrame({\"name\":[\"Mugees\",\"Nayan\",\"Pratik\",\"Riya\",\"Mudit\"],\"age\":[25,24,26,20,22],\"city\":[\"Banglore\",\"Bhopal\",\"Indore\",\"Chennai\",\"Pune\"]})\n",
    "df"
   ]
  },
  {
   "cell_type": "code",
   "execution_count": 40,
   "id": "71a57304-07c2-47cb-a2b4-fac4639768b9",
   "metadata": {},
   "outputs": [
    {
     "name": "stdout",
     "output_type": "stream",
     "text": [
      "     name  age      city\n",
      "0  Mugees   25  Banglore\n",
      "1   Nayan   24    Bhopal\n",
      "2  Pratik   26    Indore\n"
     ]
    }
   ],
   "source": [
    "print(df[df[\"age\"]>22]) # age above 22"
   ]
  },
  {
   "cell_type": "code",
   "execution_count": 41,
   "id": "7fc8f5b8-2669-4339-8cbe-daad850ce475",
   "metadata": {},
   "outputs": [],
   "source": [
    "df = pd.DataFrame({\"M\":[30,75,121,17,44,5,63,92,98,25,145,188]})"
   ]
  },
  {
   "cell_type": "code",
   "execution_count": 67,
   "id": "b33d460d-b323-402f-80e3-29af6deaeb4e",
   "metadata": {},
   "outputs": [
    {
     "name": "stdout",
     "output_type": "stream",
     "text": [
      "    M\n",
      "4  44\n",
      "6  63\n",
      "1  75\n",
      "7  92\n",
      "8  98\n"
     ]
    },
    {
     "name": "stderr",
     "output_type": "stream",
     "text": [
      "C:\\Users\\mugee\\AppData\\Local\\Temp\\ipykernel_20508\\2909710360.py:1: UserWarning: Boolean Series key will be reindexed to match DataFrame index.\n",
      "  print(df.sort_values(\"M\",ascending=True)[(df[\"M\"]>30) & (df[\"M\"]<120)]) # mean value = summation of two commands\n"
     ]
    }
   ],
   "source": [
    "print(df.sort_values(\"M\",ascending=True)[(df[\"M\"]>30) & (df[\"M\"]<120)]) # mean value = summation of two commands"
   ]
  },
  {
   "cell_type": "markdown",
   "id": "acc114fb-ee06-4036-b15d-fbbc2458800c",
   "metadata": {},
   "source": [
    "# GroupBY (Aggregation) "
   ]
  },
  {
   "cell_type": "markdown",
   "id": "7aed8c2f-ad0d-46e6-989b-afd7a888e791",
   "metadata": {},
   "source": [
    "groupby(), Aggregation fuction"
   ]
  },
  {
   "cell_type": "code",
   "execution_count": 3,
   "id": "da1b82f5-aa00-404d-a204-4893ee8743e4",
   "metadata": {},
   "outputs": [],
   "source": [
    "df = pd.DataFrame({\"Team\":[\"A\",\"B\",\"C\",\"D\"], \"Points\":[45,82,67,54]})"
   ]
  },
  {
   "cell_type": "code",
   "execution_count": 5,
   "id": "8d98839d-7396-4eaf-9ff8-2456d2de71d4",
   "metadata": {},
   "outputs": [
    {
     "name": "stdout",
     "output_type": "stream",
     "text": [
      "      Points\n",
      "Team        \n",
      "A       45.0\n",
      "B       82.0\n",
      "C       67.0\n",
      "D       54.0\n"
     ]
    }
   ],
   "source": [
    "print(df.groupby(\"Team\").mean())"
   ]
  },
  {
   "cell_type": "code",
   "execution_count": 10,
   "id": "b2e44c64-03a8-4f3b-8471-d59103ec2116",
   "metadata": {},
   "outputs": [
    {
     "name": "stdout",
     "output_type": "stream",
     "text": [
      "Team\n",
      "A    45\n",
      "B    82\n",
      "C    67\n",
      "D    54\n",
      "Name: Points, dtype: int64\n"
     ]
    }
   ],
   "source": [
    "print(df.groupby(\"Team\")[\"Points\"].sum())"
   ]
  },
  {
   "cell_type": "markdown",
   "id": "627aa16c-9476-45f6-89c1-1f8c356e058a",
   "metadata": {},
   "source": [
    "# Merging & Joining"
   ]
  },
  {
   "cell_type": "markdown",
   "id": "476f65e7-3fd5-4ff5-aa69-11a8950b4561",
   "metadata": {},
   "source": [
    "merge(), concat(), join()"
   ]
  },
  {
   "cell_type": "code",
   "execution_count": 28,
   "id": "7e509610-00fa-4a0a-9390-323a4079c52f",
   "metadata": {},
   "outputs": [],
   "source": [
    "df1 = pd.DataFrame({\"ID\":[1,2,3], \"Name\":[\"Abhi\",\"Jiya\",\"Riya\"]})"
   ]
  },
  {
   "cell_type": "code",
   "execution_count": 27,
   "id": "8395f094-da97-46e4-95c6-38b19488d61a",
   "metadata": {},
   "outputs": [],
   "source": [
    "df2 = pd.DataFrame({\"ID\":[2,3,4], \"Marks\":[45,66,33]})"
   ]
  },
  {
   "cell_type": "code",
   "execution_count": 29,
   "id": "df53f510-f65d-4338-b62d-37930c9514b9",
   "metadata": {},
   "outputs": [
    {
     "name": "stdout",
     "output_type": "stream",
     "text": [
      "   ID  Name  Marks\n",
      "0   2  Jiya     45\n",
      "1   3  Riya     66\n"
     ]
    }
   ],
   "source": [
    "print(pd.merge(df1,df2,on=\"ID\",how=\"inner\")) # inner join = returns only rows with matching ID"
   ]
  },
  {
   "cell_type": "code",
   "execution_count": 30,
   "id": "0ae68bae-3162-4010-b19d-5964d463ec0b",
   "metadata": {},
   "outputs": [
    {
     "name": "stdout",
     "output_type": "stream",
     "text": [
      "   ID  Name  Marks\n",
      "0   1  Abhi    NaN\n",
      "1   2  Jiya   45.0\n",
      "2   3  Riya   66.0\n",
      "3   4   NaN   33.0\n"
     ]
    }
   ],
   "source": [
    "print(pd.merge(df1,df2,on=\"ID\",how=\"outer\")) # outer join = return all rows from both df, filling values with NaN where ID did not match"
   ]
  },
  {
   "cell_type": "markdown",
   "id": "c83c3c30-0bad-442f-98f9-effb4175e52f",
   "metadata": {},
   "source": [
    "# Concatenation"
   ]
  },
  {
   "cell_type": "code",
   "execution_count": 31,
   "id": "030e2fe7-6d4e-4ca2-9d23-03f1589470e5",
   "metadata": {},
   "outputs": [],
   "source": [
    "df1 = pd.DataFrame({\"A\":[1,2],\"B\":[3,4]})"
   ]
  },
  {
   "cell_type": "code",
   "execution_count": 32,
   "id": "0eec33ea-3ade-454d-9adf-d2226cf30e38",
   "metadata": {},
   "outputs": [],
   "source": [
    "df2 = pd.DataFrame({\"C\":[5,6],\"D\":[7,8]})"
   ]
  },
  {
   "cell_type": "code",
   "execution_count": 35,
   "id": "cfb870cd-896d-47d7-bbe8-6f03554d4a7e",
   "metadata": {},
   "outputs": [
    {
     "name": "stdout",
     "output_type": "stream",
     "text": [
      "     A    B    C    D\n",
      "0  1.0  3.0  NaN  NaN\n",
      "1  2.0  4.0  NaN  NaN\n",
      "0  NaN  NaN  5.0  7.0\n",
      "1  NaN  NaN  6.0  8.0\n"
     ]
    }
   ],
   "source": [
    "print(pd.concat([df1,df2],axis=0)) # row wise"
   ]
  },
  {
   "cell_type": "code",
   "execution_count": 36,
   "id": "6b27e031-0a3c-46c4-b203-867233d5df94",
   "metadata": {},
   "outputs": [
    {
     "name": "stdout",
     "output_type": "stream",
     "text": [
      "   A  B  C  D\n",
      "0  1  3  5  7\n",
      "1  2  4  6  8\n"
     ]
    }
   ],
   "source": [
    "print(pd.concat([df1,df2],axis=1)) # column wise"
   ]
  },
  {
   "cell_type": "markdown",
   "id": "2f5bacd6-c486-4c7e-9c98-dffe075692fd",
   "metadata": {},
   "source": [
    "# pivot Table"
   ]
  },
  {
   "cell_type": "markdown",
   "id": "88f7f854-cb90-44e2-beca-6014e368dea2",
   "metadata": {},
   "source": [
    "pivot_table()"
   ]
  },
  {
   "cell_type": "code",
   "execution_count": 5,
   "id": "fd6c56ef-10d9-444e-9b41-23f73223b57b",
   "metadata": {},
   "outputs": [
    {
     "data": {
      "text/html": [
       "<div>\n",
       "<style scoped>\n",
       "    .dataframe tbody tr th:only-of-type {\n",
       "        vertical-align: middle;\n",
       "    }\n",
       "\n",
       "    .dataframe tbody tr th {\n",
       "        vertical-align: top;\n",
       "    }\n",
       "\n",
       "    .dataframe thead th {\n",
       "        text-align: right;\n",
       "    }\n",
       "</style>\n",
       "<table border=\"1\" class=\"dataframe\">\n",
       "  <thead>\n",
       "    <tr style=\"text-align: right;\">\n",
       "      <th></th>\n",
       "      <th>City</th>\n",
       "      <th>Year</th>\n",
       "      <th>sales</th>\n",
       "    </tr>\n",
       "  </thead>\n",
       "  <tbody>\n",
       "    <tr>\n",
       "      <th>0</th>\n",
       "      <td>delhi</td>\n",
       "      <td>2001</td>\n",
       "      <td>200</td>\n",
       "    </tr>\n",
       "    <tr>\n",
       "      <th>1</th>\n",
       "      <td>mumbai</td>\n",
       "      <td>2002</td>\n",
       "      <td>300</td>\n",
       "    </tr>\n",
       "    <tr>\n",
       "      <th>2</th>\n",
       "      <td>pune</td>\n",
       "      <td>2003</td>\n",
       "      <td>400</td>\n",
       "    </tr>\n",
       "    <tr>\n",
       "      <th>3</th>\n",
       "      <td>noida</td>\n",
       "      <td>2004</td>\n",
       "      <td>500</td>\n",
       "    </tr>\n",
       "  </tbody>\n",
       "</table>\n",
       "</div>"
      ],
      "text/plain": [
       "     City  Year  sales\n",
       "0   delhi  2001    200\n",
       "1  mumbai  2002    300\n",
       "2    pune  2003    400\n",
       "3   noida  2004    500"
      ]
     },
     "execution_count": 5,
     "metadata": {},
     "output_type": "execute_result"
    }
   ],
   "source": [
    "df = pd.DataFrame({\"City\":(\"delhi\",\"mumbai\",\"pune\",\"noida\"),\"Year\":[2001,2002,2003,2004], \"sales\":[200,300,400,500]}) \n",
    "df"
   ]
  },
  {
   "cell_type": "code",
   "execution_count": 17,
   "id": "7da9c163-006b-4d5d-af23-3f986451066a",
   "metadata": {},
   "outputs": [
    {
     "name": "stdout",
     "output_type": "stream",
     "text": [
      "Year   2001  2002  2003  2004\n",
      "City                         \n",
      "delhi   200   300   400   500\n"
     ]
    }
   ],
   "source": [
    "print(df.pivot_table(values=\"sales\",index=\"City\",columns=\"Year\",aggfunc=\"sum\")) #  aggfunc = to fill missing values"
   ]
  },
  {
   "cell_type": "code",
   "execution_count": 54,
   "id": "99e315d5-290e-44d3-b3b8-250e6d23c356",
   "metadata": {},
   "outputs": [
    {
     "data": {
      "text/html": [
       "<div>\n",
       "<style scoped>\n",
       "    .dataframe tbody tr th:only-of-type {\n",
       "        vertical-align: middle;\n",
       "    }\n",
       "\n",
       "    .dataframe tbody tr th {\n",
       "        vertical-align: top;\n",
       "    }\n",
       "\n",
       "    .dataframe thead th {\n",
       "        text-align: right;\n",
       "    }\n",
       "</style>\n",
       "<table border=\"1\" class=\"dataframe\">\n",
       "  <thead>\n",
       "    <tr style=\"text-align: right;\">\n",
       "      <th></th>\n",
       "      <th>City</th>\n",
       "      <th>Year</th>\n",
       "      <th>sales</th>\n",
       "    </tr>\n",
       "  </thead>\n",
       "  <tbody>\n",
       "    <tr>\n",
       "      <th>0</th>\n",
       "      <td>delhi</td>\n",
       "      <td>2001</td>\n",
       "      <td>200</td>\n",
       "    </tr>\n",
       "    <tr>\n",
       "      <th>1</th>\n",
       "      <td>delhi</td>\n",
       "      <td>2002</td>\n",
       "      <td>300</td>\n",
       "    </tr>\n",
       "    <tr>\n",
       "      <th>2</th>\n",
       "      <td>delhi</td>\n",
       "      <td>2003</td>\n",
       "      <td>400</td>\n",
       "    </tr>\n",
       "    <tr>\n",
       "      <th>3</th>\n",
       "      <td>delhi</td>\n",
       "      <td>2004</td>\n",
       "      <td>500</td>\n",
       "    </tr>\n",
       "  </tbody>\n",
       "</table>\n",
       "</div>"
      ],
      "text/plain": [
       "    City  Year  sales\n",
       "0  delhi  2001    200\n",
       "1  delhi  2002    300\n",
       "2  delhi  2003    400\n",
       "3  delhi  2004    500"
      ]
     },
     "execution_count": 54,
     "metadata": {},
     "output_type": "execute_result"
    }
   ],
   "source": [
    "df = pd.DataFrame({\"City\":(\"delhi\"),\"Year\":[2001,2002,2003,2004], \"sales\":[200,300,400,500]})                    \n",
    "df"
   ]
  },
  {
   "cell_type": "code",
   "execution_count": 16,
   "id": "3a771a50-a75b-4d1a-8e5f-28a3b5b4645c",
   "metadata": {},
   "outputs": [
    {
     "name": "stdout",
     "output_type": "stream",
     "text": [
      "Year    2001   2002   2003   2004\n",
      "City                             \n",
      "delhi  200.0  300.0  400.0  500.0\n"
     ]
    }
   ],
   "source": [
    "print(df.pivot_table(values=\"sales\",index=\"City\",columns=\"Year\"))"
   ]
  },
  {
   "cell_type": "markdown",
   "id": "22d7b7a4-259d-4f43-87b3-dca5e44aed9e",
   "metadata": {},
   "source": [
    "# Working with Date"
   ]
  },
  {
   "cell_type": "markdown",
   "id": "e367eb61-162f-4904-843d-263aeb86640e",
   "metadata": {},
   "source": [
    "Convert to datetime, Extract year, month, day"
   ]
  },
  {
   "cell_type": "code",
   "execution_count": 22,
   "id": "a809e3b6-a4ca-432e-ae77-1b0d3e6a596b",
   "metadata": {},
   "outputs": [],
   "source": [
    "df = pd.DataFrame({\"Date\":pd.date_range(\"2023-01-01\", periods=5)})"
   ]
  },
  {
   "cell_type": "code",
   "execution_count": 20,
   "id": "68530b68-f6c2-4443-8ff7-35204a4cabdf",
   "metadata": {},
   "outputs": [
    {
     "name": "stdout",
     "output_type": "stream",
     "text": [
      "0    2023\n",
      "1    2023\n",
      "2    2023\n",
      "3    2023\n",
      "4    2023\n",
      "Name: Date, dtype: int32\n"
     ]
    }
   ],
   "source": [
    "print(df[\"Date\"].dt.year)"
   ]
  },
  {
   "cell_type": "code",
   "execution_count": 21,
   "id": "970d020a-a04a-4980-8c2a-0e128a211c2a",
   "metadata": {},
   "outputs": [
    {
     "name": "stdout",
     "output_type": "stream",
     "text": [
      "0    1\n",
      "1    1\n",
      "2    1\n",
      "3    1\n",
      "4    1\n",
      "Name: Date, dtype: int32\n"
     ]
    }
   ],
   "source": [
    "print(df[\"Date\"].dt.month)"
   ]
  },
  {
   "cell_type": "code",
   "execution_count": 45,
   "id": "c170e9f0-5b26-45d7-8e16-d784e154eade",
   "metadata": {},
   "outputs": [],
   "source": [
    "df = pd.DataFrame({\"product\":(\"apple\"),\"Date\":(\"2023-01-01\",\"2024-01-01\",\"2025-01-01\"),\"sales\":[100,200,300]})"
   ]
  },
  {
   "cell_type": "code",
   "execution_count": 46,
   "id": "3438cf4c-2190-4bb1-a279-0b77fc1c748b",
   "metadata": {},
   "outputs": [
    {
     "data": {
      "text/html": [
       "<div>\n",
       "<style scoped>\n",
       "    .dataframe tbody tr th:only-of-type {\n",
       "        vertical-align: middle;\n",
       "    }\n",
       "\n",
       "    .dataframe tbody tr th {\n",
       "        vertical-align: top;\n",
       "    }\n",
       "\n",
       "    .dataframe thead th {\n",
       "        text-align: right;\n",
       "    }\n",
       "</style>\n",
       "<table border=\"1\" class=\"dataframe\">\n",
       "  <thead>\n",
       "    <tr style=\"text-align: right;\">\n",
       "      <th></th>\n",
       "      <th>product</th>\n",
       "      <th>Date</th>\n",
       "      <th>sales</th>\n",
       "    </tr>\n",
       "  </thead>\n",
       "  <tbody>\n",
       "    <tr>\n",
       "      <th>0</th>\n",
       "      <td>apple</td>\n",
       "      <td>2023-01-01</td>\n",
       "      <td>100</td>\n",
       "    </tr>\n",
       "    <tr>\n",
       "      <th>1</th>\n",
       "      <td>apple</td>\n",
       "      <td>2024-01-01</td>\n",
       "      <td>200</td>\n",
       "    </tr>\n",
       "    <tr>\n",
       "      <th>2</th>\n",
       "      <td>apple</td>\n",
       "      <td>2025-01-01</td>\n",
       "      <td>300</td>\n",
       "    </tr>\n",
       "  </tbody>\n",
       "</table>\n",
       "</div>"
      ],
      "text/plain": [
       "  product        Date  sales\n",
       "0   apple  2023-01-01    100\n",
       "1   apple  2024-01-01    200\n",
       "2   apple  2025-01-01    300"
      ]
     },
     "execution_count": 46,
     "metadata": {},
     "output_type": "execute_result"
    }
   ],
   "source": [
    "df"
   ]
  },
  {
   "cell_type": "markdown",
   "id": "9df483d4-e4eb-4456-8e39-c8cf4a7b4fc0",
   "metadata": {},
   "source": [
    "# String Operations"
   ]
  },
  {
   "cell_type": "markdown",
   "id": "9e85af45-ed40-4fb7-98b7-714c1ab4b346",
   "metadata": {},
   "source": [
    ".str functions"
   ]
  },
  {
   "cell_type": "code",
   "execution_count": 54,
   "id": "fce79282-eb32-4247-8d58-1ee6020b318a",
   "metadata": {},
   "outputs": [
    {
     "data": {
      "text/html": [
       "<div>\n",
       "<style scoped>\n",
       "    .dataframe tbody tr th:only-of-type {\n",
       "        vertical-align: middle;\n",
       "    }\n",
       "\n",
       "    .dataframe tbody tr th {\n",
       "        vertical-align: top;\n",
       "    }\n",
       "\n",
       "    .dataframe thead th {\n",
       "        text-align: right;\n",
       "    }\n",
       "</style>\n",
       "<table border=\"1\" class=\"dataframe\">\n",
       "  <thead>\n",
       "    <tr style=\"text-align: right;\">\n",
       "      <th></th>\n",
       "      <th>Name</th>\n",
       "    </tr>\n",
       "  </thead>\n",
       "  <tbody>\n",
       "    <tr>\n",
       "      <th>0</th>\n",
       "      <td>maya</td>\n",
       "    </tr>\n",
       "    <tr>\n",
       "      <th>1</th>\n",
       "      <td>ravi Kumar</td>\n",
       "    </tr>\n",
       "    <tr>\n",
       "      <th>2</th>\n",
       "      <td>Sara</td>\n",
       "    </tr>\n",
       "  </tbody>\n",
       "</table>\n",
       "</div>"
      ],
      "text/plain": [
       "         Name\n",
       "0        maya\n",
       "1  ravi Kumar\n",
       "2        Sara"
      ]
     },
     "execution_count": 54,
     "metadata": {},
     "output_type": "execute_result"
    }
   ],
   "source": [
    "df = pd.DataFrame({\"Name\":[\"maya\",\"ravi Kumar\",\"Sara\"]})\n",
    "df"
   ]
  },
  {
   "cell_type": "code",
   "execution_count": 55,
   "id": "f828e6e9-e5d8-4df4-869d-6b84d4e451e8",
   "metadata": {},
   "outputs": [
    {
     "name": "stdout",
     "output_type": "stream",
     "text": [
      "0          MAYA\n",
      "1    RAVI KUMAR\n",
      "2          SARA\n",
      "Name: Name, dtype: object\n"
     ]
    }
   ],
   "source": [
    "print(df[\"Name\"].str.upper())"
   ]
  },
  {
   "cell_type": "code",
   "execution_count": 59,
   "id": "210e4c1c-440f-4b65-a94d-699f22c0a384",
   "metadata": {},
   "outputs": [
    {
     "name": "stdout",
     "output_type": "stream",
     "text": [
      "0    False\n",
      "1     True\n",
      "2    False\n",
      "Name: Name, dtype: bool\n"
     ]
    }
   ],
   "source": [
    "print(df[\"Name\"].str.contains(\"Kumar\"))"
   ]
  },
  {
   "cell_type": "markdown",
   "id": "e598d44d-7517-4317-b0ac-7908ff6dbe09",
   "metadata": {},
   "source": [
    "# Handling Large Dataset"
   ]
  },
  {
   "cell_type": "markdown",
   "id": "d9af114b-0e48-448f-98e4-e3b4e21bb84d",
   "metadata": {},
   "source": [
    "Read partial data with nrows. , chunk processing "
   ]
  },
  {
   "cell_type": "code",
   "execution_count": 68,
   "id": "ad7716cf-02b5-46d3-b34e-7db9258c53fc",
   "metadata": {},
   "outputs": [
    {
     "data": {
      "text/html": [
       "<div>\n",
       "<style scoped>\n",
       "    .dataframe tbody tr th:only-of-type {\n",
       "        vertical-align: middle;\n",
       "    }\n",
       "\n",
       "    .dataframe tbody tr th {\n",
       "        vertical-align: top;\n",
       "    }\n",
       "\n",
       "    .dataframe thead th {\n",
       "        text-align: right;\n",
       "    }\n",
       "</style>\n",
       "<table border=\"1\" class=\"dataframe\">\n",
       "  <thead>\n",
       "    <tr style=\"text-align: right;\">\n",
       "      <th></th>\n",
       "      <th>Emp ID</th>\n",
       "      <th>Name</th>\n",
       "      <th>Gender</th>\n",
       "      <th>Department</th>\n",
       "      <th>Salary</th>\n",
       "      <th>Start Date</th>\n",
       "      <th>FTE</th>\n",
       "      <th>Employee type</th>\n",
       "      <th>Work location</th>\n",
       "    </tr>\n",
       "  </thead>\n",
       "  <tbody>\n",
       "    <tr>\n",
       "      <th>0</th>\n",
       "      <td>PR00007</td>\n",
       "      <td>Torrance  Collier</td>\n",
       "      <td>Female</td>\n",
       "      <td>Training</td>\n",
       "      <td>$96,135.75</td>\n",
       "      <td>13-07-2020</td>\n",
       "      <td>0.3</td>\n",
       "      <td>Permanent</td>\n",
       "      <td>Wellington, New Zealand</td>\n",
       "    </tr>\n",
       "    <tr>\n",
       "      <th>1</th>\n",
       "      <td>PR00095</td>\n",
       "      <td>Devrat Damarsingh</td>\n",
       "      <td>Female</td>\n",
       "      <td>Business Development</td>\n",
       "      <td>$70,649.46</td>\n",
       "      <td>13-01-2020</td>\n",
       "      <td>1.0</td>\n",
       "      <td>Permanent</td>\n",
       "      <td>Hyderabad, India</td>\n",
       "    </tr>\n",
       "    <tr>\n",
       "      <th>2</th>\n",
       "      <td>PR00113</td>\n",
       "      <td>Van Tuxwell</td>\n",
       "      <td>Female</td>\n",
       "      <td>Business Development</td>\n",
       "      <td>$80,695.74</td>\n",
       "      <td>17-09-2018</td>\n",
       "      <td>1.0</td>\n",
       "      <td>Permanent</td>\n",
       "      <td>Columbus, USA</td>\n",
       "    </tr>\n",
       "    <tr>\n",
       "      <th>3</th>\n",
       "      <td>PR00113</td>\n",
       "      <td>Van Tuxwell</td>\n",
       "      <td>Female</td>\n",
       "      <td>Business Development</td>\n",
       "      <td>$80,695.74</td>\n",
       "      <td>17-09-2018</td>\n",
       "      <td>1.0</td>\n",
       "      <td>Permanent</td>\n",
       "      <td>Columbus, USA</td>\n",
       "    </tr>\n",
       "    <tr>\n",
       "      <th>4</th>\n",
       "      <td>PR00147</td>\n",
       "      <td>Minerva Ricardot</td>\n",
       "      <td>Male</td>\n",
       "      <td>???</td>\n",
       "      <td>$1,20,000.00</td>\n",
       "      <td>12-11-2018</td>\n",
       "      <td>1.0</td>\n",
       "      <td>Permanent</td>\n",
       "      <td>Remote</td>\n",
       "    </tr>\n",
       "    <tr>\n",
       "      <th>5</th>\n",
       "      <td>PR00246</td>\n",
       "      <td>Husein Augar</td>\n",
       "      <td>Female</td>\n",
       "      <td>Marketing</td>\n",
       "      <td>$67,905.80</td>\n",
       "      <td>29-12-2020</td>\n",
       "      <td>1.0</td>\n",
       "      <td>Permanent</td>\n",
       "      <td>Remote</td>\n",
       "    </tr>\n",
       "    <tr>\n",
       "      <th>6</th>\n",
       "      <td>PR00419</td>\n",
       "      <td>Billi Fellgate</td>\n",
       "      <td>Female</td>\n",
       "      <td>Business Development</td>\n",
       "      <td>$68,980.52</td>\n",
       "      <td>29-01-2019</td>\n",
       "      <td>0.8</td>\n",
       "      <td>Permanent</td>\n",
       "      <td>Remote</td>\n",
       "    </tr>\n",
       "    <tr>\n",
       "      <th>7</th>\n",
       "      <td>PR00576</td>\n",
       "      <td>Lalitchandra Vadali</td>\n",
       "      <td>Female</td>\n",
       "      <td>Legal</td>\n",
       "      <td>$63,705.40</td>\n",
       "      <td>05-08-2019</td>\n",
       "      <td>1.0</td>\n",
       "      <td>Permanent</td>\n",
       "      <td>Hyderabad, India</td>\n",
       "    </tr>\n",
       "    <tr>\n",
       "      <th>8</th>\n",
       "      <td>PR00746</td>\n",
       "      <td>Hogan Iles</td>\n",
       "      <td>Female</td>\n",
       "      <td>Accounting</td>\n",
       "      <td>$1,14,177.23</td>\n",
       "      <td>18-03-2020</td>\n",
       "      <td>1.0</td>\n",
       "      <td>Permanent</td>\n",
       "      <td>Wellington, New Zealand</td>\n",
       "    </tr>\n",
       "    <tr>\n",
       "      <th>9</th>\n",
       "      <td>PR00770</td>\n",
       "      <td>Beryl Burnsyde</td>\n",
       "      <td>Male</td>\n",
       "      <td>Legal</td>\n",
       "      <td>$29,774.76</td>\n",
       "      <td>01-10-2020</td>\n",
       "      <td>1.0</td>\n",
       "      <td>Permanent</td>\n",
       "      <td>Wellington, New Zealand</td>\n",
       "    </tr>\n",
       "    <tr>\n",
       "      <th>10</th>\n",
       "      <td>PR00882</td>\n",
       "      <td>Jill Shipsey</td>\n",
       "      <td>Male</td>\n",
       "      <td>Accounting</td>\n",
       "      <td>$52,963.65</td>\n",
       "      <td>02-04-2021</td>\n",
       "      <td>0.3</td>\n",
       "      <td>Permanent</td>\n",
       "      <td>Columbus, USA</td>\n",
       "    </tr>\n",
       "    <tr>\n",
       "      <th>11</th>\n",
       "      <td>PR00893</td>\n",
       "      <td>Vasavi Veeravasarapu</td>\n",
       "      <td>Male</td>\n",
       "      <td>Human Resources</td>\n",
       "      <td>$50,310.09</td>\n",
       "      <td>30-03-2021</td>\n",
       "      <td>0.4</td>\n",
       "      <td>Permanent</td>\n",
       "      <td>Hyderabad, India</td>\n",
       "    </tr>\n",
       "    <tr>\n",
       "      <th>12</th>\n",
       "      <td>PR00916</td>\n",
       "      <td>Inger Chapelhow</td>\n",
       "      <td>Female</td>\n",
       "      <td>Research and Development</td>\n",
       "      <td>$84,309.95</td>\n",
       "      <td>01-11-2021</td>\n",
       "      <td>1.0</td>\n",
       "      <td>Permanent</td>\n",
       "      <td>Remote</td>\n",
       "    </tr>\n",
       "    <tr>\n",
       "      <th>13</th>\n",
       "      <td>PR01055</td>\n",
       "      <td>Devasree Fullara Saurin</td>\n",
       "      <td>Male</td>\n",
       "      <td>Accounting</td>\n",
       "      <td>$35,936.31</td>\n",
       "      <td>21-05-2018</td>\n",
       "      <td>1.0</td>\n",
       "      <td>Permanent</td>\n",
       "      <td>Chennai, India</td>\n",
       "    </tr>\n",
       "    <tr>\n",
       "      <th>14</th>\n",
       "      <td>PR01159</td>\n",
       "      <td>Mollie  Hanway</td>\n",
       "      <td>Male</td>\n",
       "      <td>???</td>\n",
       "      <td>$1,12,645.99</td>\n",
       "      <td>21-10-2019</td>\n",
       "      <td>0.6</td>\n",
       "      <td>Permanent</td>\n",
       "      <td>Seattle, USA</td>\n",
       "    </tr>\n",
       "    <tr>\n",
       "      <th>15</th>\n",
       "      <td>PR01211</td>\n",
       "      <td>Enoch Dowrey</td>\n",
       "      <td>Male</td>\n",
       "      <td>Accounting</td>\n",
       "      <td>$91,645.04</td>\n",
       "      <td>27-01-2021</td>\n",
       "      <td>1.0</td>\n",
       "      <td>Permanent</td>\n",
       "      <td>Auckland, New Zealand</td>\n",
       "    </tr>\n",
       "    <tr>\n",
       "      <th>16</th>\n",
       "      <td>PR01269</td>\n",
       "      <td>Eleonore Airdrie</td>\n",
       "      <td>Female</td>\n",
       "      <td>Engineering</td>\n",
       "      <td>$97,105.19</td>\n",
       "      <td>17-08-2021</td>\n",
       "      <td>1.0</td>\n",
       "      <td>Permanent</td>\n",
       "      <td>Columbus, USA</td>\n",
       "    </tr>\n",
       "    <tr>\n",
       "      <th>17</th>\n",
       "      <td>PR01306</td>\n",
       "      <td>Patti Dradey</td>\n",
       "      <td>Male</td>\n",
       "      <td>Services</td>\n",
       "      <td>$84,742.86</td>\n",
       "      <td>24-09-2020</td>\n",
       "      <td>1.0</td>\n",
       "      <td>Permanent</td>\n",
       "      <td>Auckland, New Zealand</td>\n",
       "    </tr>\n",
       "    <tr>\n",
       "      <th>18</th>\n",
       "      <td>PR01346</td>\n",
       "      <td>Adolph McNalley</td>\n",
       "      <td>Male</td>\n",
       "      <td>Business Development</td>\n",
       "      <td>$85,918.61</td>\n",
       "      <td>05-02-2018</td>\n",
       "      <td>1.0</td>\n",
       "      <td>Permanent</td>\n",
       "      <td>Columbus, USA</td>\n",
       "    </tr>\n",
       "    <tr>\n",
       "      <th>19</th>\n",
       "      <td>PR01383</td>\n",
       "      <td>Addi Studdeard</td>\n",
       "      <td>Female</td>\n",
       "      <td>Product Management</td>\n",
       "      <td>$72,502.61</td>\n",
       "      <td>08-02-2021</td>\n",
       "      <td>1.0</td>\n",
       "      <td>Permanent</td>\n",
       "      <td>Wellington, New Zealand</td>\n",
       "    </tr>\n",
       "  </tbody>\n",
       "</table>\n",
       "</div>"
      ],
      "text/plain": [
       "     Emp ID                     Name  Gender                Department  \\\n",
       "0   PR00007        Torrance  Collier  Female                  Training   \n",
       "1   PR00095        Devrat Damarsingh  Female      Business Development   \n",
       "2   PR00113              Van Tuxwell  Female      Business Development   \n",
       "3   PR00113              Van Tuxwell  Female      Business Development   \n",
       "4   PR00147         Minerva Ricardot    Male                       ???   \n",
       "5   PR00246             Husein Augar  Female                 Marketing   \n",
       "6   PR00419           Billi Fellgate  Female      Business Development   \n",
       "7   PR00576      Lalitchandra Vadali  Female                     Legal   \n",
       "8   PR00746               Hogan Iles  Female                Accounting   \n",
       "9   PR00770           Beryl Burnsyde    Male                     Legal   \n",
       "10  PR00882             Jill Shipsey    Male                Accounting   \n",
       "11  PR00893     Vasavi Veeravasarapu    Male           Human Resources   \n",
       "12  PR00916          Inger Chapelhow  Female  Research and Development   \n",
       "13  PR01055  Devasree Fullara Saurin    Male                Accounting   \n",
       "14  PR01159           Mollie  Hanway    Male                       ???   \n",
       "15  PR01211             Enoch Dowrey    Male                Accounting   \n",
       "16  PR01269         Eleonore Airdrie  Female               Engineering   \n",
       "17  PR01306             Patti Dradey    Male                  Services   \n",
       "18  PR01346          Adolph McNalley    Male      Business Development   \n",
       "19  PR01383           Addi Studdeard  Female        Product Management   \n",
       "\n",
       "           Salary  Start Date  FTE Employee type            Work location  \n",
       "0     $96,135.75   13-07-2020  0.3     Permanent  Wellington, New Zealand  \n",
       "1     $70,649.46   13-01-2020  1.0     Permanent         Hyderabad, India  \n",
       "2     $80,695.74   17-09-2018  1.0     Permanent            Columbus, USA  \n",
       "3     $80,695.74   17-09-2018  1.0     Permanent            Columbus, USA  \n",
       "4   $1,20,000.00   12-11-2018  1.0     Permanent                   Remote  \n",
       "5     $67,905.80   29-12-2020  1.0     Permanent                   Remote  \n",
       "6     $68,980.52   29-01-2019  0.8     Permanent                   Remote  \n",
       "7     $63,705.40   05-08-2019  1.0     Permanent         Hyderabad, India  \n",
       "8   $1,14,177.23   18-03-2020  1.0     Permanent  Wellington, New Zealand  \n",
       "9     $29,774.76   01-10-2020  1.0     Permanent  Wellington, New Zealand  \n",
       "10    $52,963.65   02-04-2021  0.3     Permanent            Columbus, USA  \n",
       "11    $50,310.09   30-03-2021  0.4     Permanent         Hyderabad, India  \n",
       "12    $84,309.95   01-11-2021  1.0     Permanent                   Remote  \n",
       "13    $35,936.31   21-05-2018  1.0     Permanent           Chennai, India  \n",
       "14  $1,12,645.99   21-10-2019  0.6     Permanent             Seattle, USA  \n",
       "15    $91,645.04   27-01-2021  1.0     Permanent    Auckland, New Zealand  \n",
       "16    $97,105.19   17-08-2021  1.0     Permanent            Columbus, USA  \n",
       "17    $84,742.86   24-09-2020  1.0     Permanent    Auckland, New Zealand  \n",
       "18    $85,918.61   05-02-2018  1.0     Permanent            Columbus, USA  \n",
       "19    $72,502.61   08-02-2021  1.0     Permanent  Wellington, New Zealand  "
      ]
     },
     "execution_count": 68,
     "metadata": {},
     "output_type": "execute_result"
    }
   ],
   "source": [
    "df = pd.read_csv(\"C:/Users/mugee/OneDrive/Desktop/01.introduction-to-excel.csv\",nrows=20)\n",
    "df"
   ]
  },
  {
   "cell_type": "code",
   "execution_count": 67,
   "id": "b88d3beb-8ee6-48c1-a0f6-24d8e641b176",
   "metadata": {},
   "outputs": [
    {
     "name": "stdout",
     "output_type": "stream",
     "text": [
      "    Emp ID               Name  Gender            Department         Salary  \\\n",
      "0  PR00007  Torrance  Collier  Female              Training    $96,135.75    \n",
      "1  PR00095  Devrat Damarsingh  Female  Business Development    $70,649.46    \n",
      "2  PR00113        Van Tuxwell  Female  Business Development    $80,695.74    \n",
      "3  PR00113        Van Tuxwell  Female  Business Development    $80,695.74    \n",
      "4  PR00147   Minerva Ricardot    Male                   ???  $1,20,000.00    \n",
      "\n",
      "   Start Date  FTE Employee type            Work location  \n",
      "0  13-07-2020  0.3     Permanent  Wellington, New Zealand  \n",
      "1  13-01-2020  1.0     Permanent         Hyderabad, India  \n",
      "2  17-09-2018  1.0     Permanent            Columbus, USA  \n",
      "3  17-09-2018  1.0     Permanent            Columbus, USA  \n",
      "4  12-11-2018  1.0     Permanent                   Remote  \n",
      "     Emp ID                     Name  Gender                Department  \\\n",
      "10  PR00882             Jill Shipsey    Male                Accounting   \n",
      "11  PR00893     Vasavi Veeravasarapu    Male           Human Resources   \n",
      "12  PR00916          Inger Chapelhow  Female  Research and Development   \n",
      "13  PR01055  Devasree Fullara Saurin    Male                Accounting   \n",
      "14  PR01159           Mollie  Hanway    Male                       ???   \n",
      "\n",
      "           Salary  Start Date  FTE Employee type     Work location  \n",
      "10    $52,963.65   02-04-2021  0.3     Permanent     Columbus, USA  \n",
      "11    $50,310.09   30-03-2021  0.4     Permanent  Hyderabad, India  \n",
      "12    $84,309.95   01-11-2021  1.0     Permanent            Remote  \n",
      "13    $35,936.31   21-05-2018  1.0     Permanent    Chennai, India  \n",
      "14  $1,12,645.99   21-10-2019  0.6     Permanent      Seattle, USA  \n",
      "     Emp ID                     Name  Gender                Department  \\\n",
      "20  PR01476  Jaishree Atasi Yavatkar    Male                  Services   \n",
      "21  PR01662           Genevra Friday  Female  Research and Development   \n",
      "22  PR01943       Rameshwari Chikodi    Male           Human Resources   \n",
      "23  PR01956          Jamesy O'Ferris    Male                Accounting   \n",
      "24  PR01956          Jamesy O'Ferris    Male                Accounting   \n",
      "\n",
      "         Salary  Start Date  FTE Employee type          Work location  \n",
      "20  $77,096.05   27-04-2018  1.0     Permanent         Chennai, India  \n",
      "21  $50,449.46   14-11-2018  0.8     Permanent  Auckland, New Zealand  \n",
      "22  $48,525.71   13-06-2018  1.0     Permanent       Hyderabad, India  \n",
      "23  $36,547.58   12-11-2018  1.0     Permanent                 Remote  \n",
      "24  $36,547.58   12-11-2018  1.0     Permanent                 Remote  \n",
      "     Emp ID                   Name  Gender          Department         Salary  \\\n",
      "30  PR02275         Louise Lamming  Female               Sales    $41,934.71    \n",
      "31  PR02288        Althea  Bronger    Male  Product Management  $1,04,335.04    \n",
      "32  PR02321         Evanne  Sheryn  Female            Services    $81,897.79    \n",
      "33  PR02436      Marmaduke Worssam  Female         Engineering    $78,378.20    \n",
      "34  PR02603  Dinanath Simhambhatla  Female     Human Resources    $61,994.76    \n",
      "\n",
      "    Start Date  FTE Employee type          Work location  \n",
      "30  11-11-2019  1.0     Permanent                 Remote  \n",
      "31  13-02-2020  1.0     Permanent          Columbus, USA  \n",
      "32  15-02-2018  1.0     Permanent  Auckland, New Zealand  \n",
      "33  31-12-2018  0.4     Permanent                 Remote  \n",
      "34  25-11-2019  0.3     Permanent       Hyderabad, India  \n",
      "     Emp ID            Name  Gender       Department       Salary  Start Date  \\\n",
      "40  PR03271  Stan  Tolliday  Female            Sales  $39,535.49   24-10-2018   \n",
      "41  PR03445  Myrle Prandoni    Male            Sales  $62,195.47   26-08-2021   \n",
      "42  PR03532   Crawford Scad    Male  Human Resources  $72,876.91   07-01-2020   \n",
      "43  PR03804   Pratigya Rema    Male            Legal  $66,572.58   28-12-2020   \n",
      "44  PR03804   Sartaj Probal    Male            Legal  $66,572.58   28-12-2020   \n",
      "\n",
      "    FTE Employee type   Work location  \n",
      "40  0.3     Permanent          Remote  \n",
      "41  1.0     Permanent          Remote  \n",
      "42  1.0     Permanent          Remote  \n",
      "43  1.0     Permanent  Chennai, India  \n",
      "44  1.0     Permanent  Chennai, India  \n",
      "     Emp ID                   Name  Gender                Department  \\\n",
      "50  PR04446  Sameer Shashank Sapra  Female  Research and Development   \n",
      "51  PR04473           Wyn Treadger  Female      Business Development   \n",
      "52  PR04601  Yedukondalu Panditula     NaN                   Support   \n",
      "53  PR04686             Oona Donan  Female      Business Development   \n",
      "54  PR04851          Rodina Drinan  Female                     Sales   \n",
      "\n",
      "           Salary  Start Date  FTE Employee type     Work location  \n",
      "50    $92,336.08   23-08-2021  1.0     Permanent  Hyderabad, India  \n",
      "51    $69,192.85   19-04-2021  1.0     Permanent     Columbus, USA  \n",
      "52  $1,04,802.63   02-11-2021  1.0     Permanent  Hyderabad, India  \n",
      "53    $98,000.00   02-09-2019  0.9     Permanent      Seattle, USA  \n",
      "54    $77,045.44   20-06-2019  1.0     Permanent            Remote  \n"
     ]
    }
   ],
   "source": [
    "for chunk in pd.read_csv(\"C:/Users/mugee/OneDrive/Desktop/01.introduction-to-excel.csv\", chunksize=10):\n",
    "    print(chunk.head())"
   ]
  },
  {
   "cell_type": "markdown",
   "id": "cd708821-b393-49f8-9e7f-bbf2c87fac72",
   "metadata": {},
   "source": [
    "# Exporting Data "
   ]
  },
  {
   "cell_type": "markdown",
   "id": "470e857e-6d48-49a6-9466-1ad8ef906ea5",
   "metadata": {},
   "source": [
    "save to csv, Excel, JSON"
   ]
  },
  {
   "cell_type": "code",
   "execution_count": 73,
   "id": "da19e636-e5a2-4cd9-98c2-86061f69209a",
   "metadata": {},
   "outputs": [],
   "source": [
    "df.to_excel(\"C:/Users/mugee/OneDrive/Desktop/01.introduction-to-excel.xlsx\",index=False)"
   ]
  },
  {
   "cell_type": "markdown",
   "id": "edef898d-0e86-4bfe-ad52-02136a88e675",
   "metadata": {},
   "source": [
    "# MultiIndex DataFrame"
   ]
  },
  {
   "cell_type": "markdown",
   "id": "46d02f7d-d256-4b6f-902d-ddc04c5c2c38",
   "metadata": {},
   "source": [
    "Creating multi-level index"
   ]
  },
  {
   "cell_type": "code",
   "execution_count": 76,
   "id": "59a89617-b41c-4c11-b072-e4879ac15735",
   "metadata": {},
   "outputs": [],
   "source": [
    "df = pd.DataFrame({\"City\":[\"Delhi\",\"Delhi\",\"Mumbai\",\"Mumbai\"],\"Year\":[2020,2021,2022,2023],\"Sales\":[200,300,250,400]})"
   ]
  },
  {
   "cell_type": "code",
   "execution_count": 78,
   "id": "8e1c0003-127b-4a08-bd07-c98c945ebcfb",
   "metadata": {},
   "outputs": [
    {
     "name": "stdout",
     "output_type": "stream",
     "text": [
      "             Sales\n",
      "City   Year       \n",
      "Delhi  2020    200\n",
      "       2021    300\n",
      "Mumbai 2022    250\n",
      "       2023    400\n"
     ]
    }
   ],
   "source": [
    "df = df.set_index([\"City\",\"Year\"])\n",
    "print(df)"
   ]
  },
  {
   "cell_type": "markdown",
   "id": "9c9337c7-cfcf-496b-abef-a9626da4643c",
   "metadata": {},
   "source": [
    "# Reshaping Data"
   ]
  },
  {
   "cell_type": "code",
   "execution_count": 83,
   "id": "18130966-31e7-4b93-a9d8-4e8b652d6ac8",
   "metadata": {},
   "outputs": [],
   "source": [
    "df = pd.DataFrame({\"Name\":[\"A\",\"B\",\"C\",\"D\"],\"Math\":[67,87,88,55],\"Science\":[72,84,63,49]})"
   ]
  },
  {
   "cell_type": "code",
   "execution_count": 99,
   "id": "39579b12-c643-47b9-bca3-ffced4e074bf",
   "metadata": {},
   "outputs": [
    {
     "name": "stdout",
     "output_type": "stream",
     "text": [
      "  Name variable  value\n",
      "0    A     Math     67\n",
      "1    B     Math     87\n",
      "2    C     Math     88\n",
      "3    D     Math     55\n",
      "4    A  Science     72\n",
      "5    B  Science     84\n",
      "6    C  Science     63\n",
      "7    D  Science     49\n"
     ]
    }
   ],
   "source": [
    "print(pd.melt(df, id_vars=[\"Name\"],value_vars=[\"Math\",\"Science\"])) # Melt() function is used to change df format from wide to long."
   ]
  },
  {
   "cell_type": "markdown",
   "id": "3422bd88-e1c4-4dd8-8ce6-4aac5edae660",
   "metadata": {},
   "source": [
    "Create a sample DataFrame in wide format"
   ]
  },
  {
   "cell_type": "code",
   "execution_count": 95,
   "id": "28aae2f4-61ce-4d38-9f22-a79f832c3ee4",
   "metadata": {},
   "outputs": [],
   "source": [
    "data = { \"City\":[\"Mumbai\",\"Delhi\",\"Noida\",\"Surat\"],\"temp_jan\":[24,25,26,27],\"temp_feb\":[28,29,30,31]}"
   ]
  },
  {
   "cell_type": "code",
   "execution_count": 96,
   "id": "49d79d6d-915d-474b-924e-ba1f05d2c915",
   "metadata": {},
   "outputs": [],
   "source": [
    "df_wide = pd.DataFrame(data) "
   ]
  },
  {
   "cell_type": "code",
   "execution_count": 97,
   "id": "da8fa54d-4f7b-460a-92bc-8ebae24dbd34",
   "metadata": {},
   "outputs": [
    {
     "name": "stdout",
     "output_type": "stream",
     "text": [
      "Wide DataFrame\n",
      "     City  temp_jan  temp_feb\n",
      "0  Mumbai        24        28\n",
      "1   Delhi        25        29\n",
      "2   Noida        26        30\n",
      "3   Surat        27        31\n"
     ]
    }
   ],
   "source": [
    "print(\"Wide DataFrame\")\n",
    "print(df_wide)"
   ]
  },
  {
   "cell_type": "markdown",
   "id": "1621d933-7bd5-4e3a-9512-d980e5b15d18",
   "metadata": {},
   "source": [
    "Melt the DataFrame to a long format"
   ]
  },
  {
   "cell_type": "code",
   "execution_count": 98,
   "id": "933a192c-76f5-4aab-9f44-35d615c8a3e0",
   "metadata": {},
   "outputs": [
    {
     "name": "stdout",
     "output_type": "stream",
     "text": [
      "\n",
      "Long DataFrame:\n",
      "     City     Month  Tempereture\n",
      "0  Mumbai  temp_jan           24\n",
      "1   Delhi  temp_jan           25\n",
      "2   Noida  temp_jan           26\n",
      "3   Surat  temp_jan           27\n",
      "4  Mumbai  temp_feb           28\n",
      "5   Delhi  temp_feb           29\n",
      "6   Noida  temp_feb           30\n",
      "7   Surat  temp_feb           31\n"
     ]
    }
   ],
   "source": [
    "df_long = df_wide.melt(id_vars=[\"City\"], var_name=\"Month\", value_name=\"Tempereture\")\n",
    "print(\"\\nLong DataFrame:\")\n",
    "print(df_long)"
   ]
  },
  {
   "cell_type": "markdown",
   "id": "5094fb77-3218-4d3e-99f5-f6ff0fc606fc",
   "metadata": {},
   "source": [
    "# Statistical Function"
   ]
  },
  {
   "cell_type": "markdown",
   "id": "cd8bc074-3cc0-48ae-8115-0076451e335c",
   "metadata": {},
   "source": [
    ".mean(), .median(), .std(), .corr()"
   ]
  },
  {
   "cell_type": "code",
   "execution_count": 3,
   "id": "9a525bb6-6cbb-4a98-9aa8-d492fcba4426",
   "metadata": {},
   "outputs": [],
   "source": [
    "data = {'A':[10,20,30,40,50],\n",
    "        'B':[5,15,25,35,45]}"
   ]
  },
  {
   "cell_type": "code",
   "execution_count": 4,
   "id": "8cd57d79-d7bd-40bc-be2c-b641360e499d",
   "metadata": {},
   "outputs": [],
   "source": [
    "df=pd.DataFrame(data)"
   ]
  },
  {
   "cell_type": "code",
   "execution_count": 18,
   "id": "e94dd905-1016-467d-a040-b4a46d5c7ec4",
   "metadata": {},
   "outputs": [
    {
     "name": "stdout",
     "output_type": "stream",
     "text": [
      "Mean of column 'A': 30.0\n",
      "Median of column 'B': 25.0\n",
      "Standard Deviation of column 'A': 15.811388300841896 15.811388300841896\n",
      "               A          B\n",
      "count   5.000000   5.000000\n",
      "mean   30.000000  25.000000\n",
      "std    15.811388  15.811388\n",
      "min    10.000000   5.000000\n",
      "25%    20.000000  15.000000\n",
      "50%    30.000000  25.000000\n",
      "75%    40.000000  35.000000\n",
      "max    50.000000  45.000000\n"
     ]
    }
   ],
   "source": [
    "print(\"Mean of column 'A':\",df['A'].mean())\n",
    "print(\"Median of column 'B':\",df['B'].median())\n",
    "print(\"Standard Deviation of column 'A':\",df['A'].std(),df['B'].std())\n",
    "print(df.describe())"
   ]
  },
  {
   "cell_type": "markdown",
   "id": "61707ba6-62bc-465d-be53-003d8c278a4b",
   "metadata": {},
   "source": [
    "# Window Function"
   ]
  },
  {
   "cell_type": "markdown",
   "id": "b2a821da-b40a-4cd6-a9ac-4384fec8ddf1",
   "metadata": {},
   "source": [
    ".rolling()"
   ]
  },
  {
   "cell_type": "code",
   "execution_count": 23,
   "id": "d4a06056-6ef4-49a6-8e29-1107f3b7b429",
   "metadata": {},
   "outputs": [
    {
     "name": "stdout",
     "output_type": "stream",
     "text": [
      "0     NaN\n",
      "1    15.0\n",
      "2    25.0\n",
      "3    35.0\n",
      "4    45.0\n",
      "Name: Value, dtype: float64\n"
     ]
    }
   ],
   "source": [
    "df = pd.DataFrame({\"Value\":[10,20,30,40,50]})\n",
    "print(df[\"Value\"].rolling(2).mean())"
   ]
  },
  {
   "cell_type": "code",
   "execution_count": 60,
   "id": "bf963628-778c-4875-9d5d-9d06e47da7a9",
   "metadata": {},
   "outputs": [],
   "source": [
    "import pandas as pd\n",
    "import numpy as np"
   ]
  },
  {
   "cell_type": "code",
   "execution_count": 61,
   "id": "10ae96ba-e421-44ba-97fb-adc6a98c955c",
   "metadata": {},
   "outputs": [],
   "source": [
    "# Create a sample DataFrame\n",
    "data = {'value': np.random.rand(10)}\n",
    "df = pd.DataFrame(data)"
   ]
  },
  {
   "cell_type": "code",
   "execution_count": 62,
   "id": "1ab634ae-0c5c-444a-849d-3325f87f8a80",
   "metadata": {},
   "outputs": [],
   "source": [
    "# Calculate a 3-period of rolling mean\n",
    "df['rolling_mean'] = df['value'].rolling(window=2).mean()"
   ]
  },
  {
   "cell_type": "code",
   "execution_count": 63,
   "id": "4a6cfe68-56e5-4f32-ac73-93b838482b1f",
   "metadata": {},
   "outputs": [],
   "source": [
    "# Calculate a 3-period rolling sum with a minimum of 2 periods\n",
    "df['rolling_sum_min2'] = df['value'].rolling(window=3, min_periods=2).sum()"
   ]
  },
  {
   "cell_type": "code",
   "execution_count": 64,
   "id": "4fa3f012-a7ab-48ca-887f-b197bc1afeb6",
   "metadata": {},
   "outputs": [
    {
     "name": "stdout",
     "output_type": "stream",
     "text": [
      "      value  rolling_mean  rolling_sum_min2\n",
      "0  0.253038           NaN               NaN\n",
      "1  0.399363      0.326201          0.652401\n",
      "2  0.734347      0.566855          1.386748\n",
      "3  0.072671      0.403509          1.206381\n",
      "4  0.838884      0.455777          1.645902\n",
      "5  0.155730      0.497307          1.067285\n",
      "6  0.654373      0.405052          1.648987\n",
      "7  0.552580      0.603476          1.362683\n",
      "8  0.914069      0.733325          2.121022\n",
      "9  0.340235      0.627152          1.806884\n"
     ]
    }
   ],
   "source": [
    "print(df)"
   ]
  },
  {
   "cell_type": "markdown",
   "id": "4d0f83ae-37d4-4ecd-bb92-7843bb094a71",
   "metadata": {},
   "source": [
    "# Apply vs Map"
   ]
  },
  {
   "cell_type": "code",
   "execution_count": 65,
   "id": "9060119f-e21b-4599-a6ca-48b96c58b187",
   "metadata": {},
   "outputs": [
    {
     "name": "stdout",
     "output_type": "stream",
     "text": [
      "0    0.506076\n",
      "1    0.798727\n",
      "2    1.468694\n",
      "3    0.145342\n",
      "4    1.677767\n",
      "5    0.311460\n",
      "6    1.308746\n",
      "7    1.105159\n",
      "8    1.828139\n",
      "9    0.680470\n",
      "Name: value, dtype: float64\n",
      "      value  rolling_mean  rolling_sum_min2\n",
      "0  0.506076           NaN               NaN\n",
      "1  0.798727      0.652401          1.304802\n",
      "2  1.468694      1.133710          2.773496\n",
      "3  0.145342      0.807018          2.412763\n",
      "4  1.677767      0.911555          3.291803\n",
      "5  0.311460      0.994614          2.134569\n",
      "6  1.308746      0.810103          3.297973\n",
      "7  1.105159      1.206953          2.725365\n",
      "8  1.828139      1.466649          4.242044\n",
      "9  0.680470      1.254305          3.613768\n"
     ]
    }
   ],
   "source": [
    "print(df[\"value\"].map(lambda x: x*2))\n",
    "print(df.apply(lambda x: x*2))"
   ]
  },
  {
   "cell_type": "markdown",
   "id": "390740eb-95bd-4903-addb-bc7d394e6ff5",
   "metadata": {},
   "source": [
    "# Duplicate Data"
   ]
  },
  {
   "cell_type": "markdown",
   "id": "c8ecf7de-3202-47cd-a3bf-137bd59cd70b",
   "metadata": {},
   "source": [
    "Detect and remove duplicates"
   ]
  },
  {
   "cell_type": "code",
   "execution_count": 47,
   "id": "e7551e30-920b-427a-88f8-d26417d93d94",
   "metadata": {},
   "outputs": [],
   "source": [
    "df = pd.DataFrame({\"A\":[1,2,2,3,4,5,5,6,7,7,8,9]})"
   ]
  },
  {
   "cell_type": "code",
   "execution_count": 43,
   "id": "d6d76ffe-0f18-4eb1-9656-dab08240b30e",
   "metadata": {},
   "outputs": [
    {
     "name": "stdout",
     "output_type": "stream",
     "text": [
      "0     False\n",
      "1     False\n",
      "2      True\n",
      "3     False\n",
      "4     False\n",
      "5     False\n",
      "6      True\n",
      "7     False\n",
      "8     False\n",
      "9      True\n",
      "10    False\n",
      "11    False\n",
      "dtype: bool\n",
      "    A\n",
      "0   1\n",
      "1   2\n",
      "3   3\n",
      "4   4\n",
      "5   5\n",
      "7   6\n",
      "8   7\n",
      "10  8\n",
      "11  9\n"
     ]
    }
   ],
   "source": [
    "print(df.duplicated())\n",
    "print(df.drop_duplicates())"
   ]
  },
  {
   "cell_type": "markdown",
   "id": "8a915180-2997-4367-aab6-3af5b394e86e",
   "metadata": {},
   "source": [
    "# Index Manupulation"
   ]
  },
  {
   "cell_type": "markdown",
   "id": "98b7a835-5af8-4f96-b6a3-3a6a868341cb",
   "metadata": {},
   "source": [
    "reset index,  set index"
   ]
  },
  {
   "cell_type": "code",
   "execution_count": 52,
   "id": "a77351c4-efbb-4b77-aab1-77a9eda8dc3a",
   "metadata": {},
   "outputs": [
    {
     "name": "stdout",
     "output_type": "stream",
     "text": [
      "Empty DataFrame\n",
      "Columns: []\n",
      "Index: [1, 2, 2, 3, 4, 5, 5, 6, 7, 7, 8, 9]\n"
     ]
    }
   ],
   "source": [
    "df = pd.DataFrame({\"A\":[1,2,2,3,4,5,5,6,7,7,8,9]})\n",
    "df = df.reset_index(drop=True)\n",
    "df = df.set_index(\"A\")\n",
    "print(df)"
   ]
  },
  {
   "cell_type": "markdown",
   "id": "2c61c5b8-e2a0-4184-8bda-579d9d59dad1",
   "metadata": {},
   "source": [
    "# Advanced Aggregations"
   ]
  },
  {
   "cell_type": "markdown",
   "id": "14d3fa44-a209-4726-969d-f36ab445aa6a",
   "metadata": {},
   "source": [
    ".agg()"
   ]
  },
  {
   "cell_type": "code",
   "execution_count": 55,
   "id": "cf4a743d-08f4-4910-b847-853d7a01b5ef",
   "metadata": {},
   "outputs": [
    {
     "name": "stdout",
     "output_type": "stream",
     "text": [
      "       sales\n",
      "mean   350.0\n",
      "sum   1400.0\n"
     ]
    }
   ],
   "source": [
    "df = pd.DataFrame({\"City\":(\"delhi\"),\"Year\":[2001,2002,2003,2004], \"sales\":[200,300,400,500]}) \n",
    "print(df.agg({\"sales\":[\"mean\",\"sum\"]}))"
   ]
  },
  {
   "cell_type": "markdown",
   "id": "6aa81e7f-e3db-4712-ab29-18e411831a54",
   "metadata": {},
   "source": [
    "# Combining Pandas with Numpy"
   ]
  },
  {
   "cell_type": "markdown",
   "id": "3012d9e9-0f60-4e82-9e3d-06de283be627",
   "metadata": {},
   "source": [
    "Use Numpy function inside Pandas"
   ]
  },
  {
   "cell_type": "code",
   "execution_count": 57,
   "id": "1dbab338-36a3-4f25-96d6-2b43200169d8",
   "metadata": {},
   "outputs": [
    {
     "name": "stdout",
     "output_type": "stream",
     "text": [
      "0    14.142136\n",
      "1    17.320508\n",
      "2    20.000000\n",
      "3    22.360680\n",
      "Name: sales, dtype: float64\n"
     ]
    }
   ],
   "source": [
    "print(df[\"sales\"].apply(np.sqrt))"
   ]
  },
  {
   "cell_type": "markdown",
   "id": "38622f72-4c19-4114-a9a4-0a9e7af6af55",
   "metadata": {},
   "source": [
    "# Visualizaton with Pandas"
   ]
  },
  {
   "cell_type": "markdown",
   "id": "93d9c6fb-78d3-4aad-a000-47a09034d1cd",
   "metadata": {},
   "source": [
    ".plot()"
   ]
  },
  {
   "cell_type": "code",
   "execution_count": 58,
   "id": "89c4afd6-c234-4b27-88fd-ab85d89c8b8e",
   "metadata": {},
   "outputs": [
    {
     "data": {
      "image/png": "[encoded data removed]",
      "text/plain": [
       "<Figure size 640x480 with 1 Axes>"
      ]
     },
     "metadata": {},
     "output_type": "display_data"
    }
   ],
   "source": [
    "import matplotlib.pyplot as plt\n",
    "df[\"sales\"].plot(kind=\"bar\")\n",
    "plt.show()"
   ]
  },
  {
   "cell_type": "code",
   "execution_count": null,
   "id": "7396e945-3ba1-4e4a-92da-1031eace9b81",
   "metadata": {},
   "outputs": [],
   "source": []
  }
 ],
 "metadata": {
  "kernelspec": {
   "display_name": "Python [conda env:base] *",
   "language": "python",
   "name": "conda-base-py"
  },
  "language_info": {
   "codemirror_mode": {
    "name": "ipython",
    "version": 3
   },
   "file_extension": ".py",
   "mimetype": "text/x-python",
   "name": "python",
   "nbconvert_exporter": "python",
   "pygments_lexer": "ipython3",
   "version": "3.12.4"
  }
 },
 "nbformat": 4,
 "nbformat_minor": 5
}
